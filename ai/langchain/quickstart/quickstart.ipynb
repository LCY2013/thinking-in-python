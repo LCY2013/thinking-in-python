{
 "cells": [
  {
   "cell_type": "code",
   "execution_count": 1,
   "id": "initial_id",
   "metadata": {
    "collapsed": true,
    "ExecuteTime": {
     "end_time": "2024-03-25T12:54:36.841202Z",
     "start_time": "2024-03-25T12:54:34.211583Z"
    }
   },
   "outputs": [
    {
     "name": "stdout",
     "output_type": "stream",
     "text": [
      "Looking in indexes: https://pypi.python.org/simple\r\n",
      "Requirement already satisfied: langchain in /Users/chunyunluo/developer/python/project/thinking-in-python/venv/lib/python3.11/site-packages (0.1.13)\r\n",
      "Requirement already satisfied: PyYAML>=5.3 in /Users/chunyunluo/developer/python/project/thinking-in-python/venv/lib/python3.11/site-packages (from langchain) (6.0.1)\r\n",
      "Requirement already satisfied: SQLAlchemy<3,>=1.4 in /Users/chunyunluo/developer/python/project/thinking-in-python/venv/lib/python3.11/site-packages (from langchain) (2.0.23)\r\n",
      "Requirement already satisfied: aiohttp<4.0.0,>=3.8.3 in /Users/chunyunluo/developer/python/project/thinking-in-python/venv/lib/python3.11/site-packages (from langchain) (3.9.1)\r\n",
      "Requirement already satisfied: dataclasses-json<0.7,>=0.5.7 in /Users/chunyunluo/developer/python/project/thinking-in-python/venv/lib/python3.11/site-packages (from langchain) (0.6.4)\r\n",
      "Requirement already satisfied: jsonpatch<2.0,>=1.33 in /Users/chunyunluo/developer/python/project/thinking-in-python/venv/lib/python3.11/site-packages (from langchain) (1.33)\r\n",
      "Requirement already satisfied: langchain-community<0.1,>=0.0.29 in /Users/chunyunluo/developer/python/project/thinking-in-python/venv/lib/python3.11/site-packages (from langchain) (0.0.29)\r\n",
      "Requirement already satisfied: langchain-core<0.2.0,>=0.1.33 in /Users/chunyunluo/developer/python/project/thinking-in-python/venv/lib/python3.11/site-packages (from langchain) (0.1.33)\r\n",
      "Requirement already satisfied: langchain-text-splitters<0.1,>=0.0.1 in /Users/chunyunluo/developer/python/project/thinking-in-python/venv/lib/python3.11/site-packages (from langchain) (0.0.1)\r\n",
      "Requirement already satisfied: langsmith<0.2.0,>=0.1.17 in /Users/chunyunluo/developer/python/project/thinking-in-python/venv/lib/python3.11/site-packages (from langchain) (0.1.31)\r\n",
      "Requirement already satisfied: numpy<2,>=1 in /Users/chunyunluo/developer/python/project/thinking-in-python/venv/lib/python3.11/site-packages (from langchain) (1.26.4)\r\n",
      "Requirement already satisfied: pydantic<3,>=1 in /Users/chunyunluo/developer/python/project/thinking-in-python/venv/lib/python3.11/site-packages (from langchain) (2.6.3)\r\n",
      "Requirement already satisfied: requests<3,>=2 in /Users/chunyunluo/developer/python/project/thinking-in-python/venv/lib/python3.11/site-packages (from langchain) (2.31.0)\r\n",
      "Requirement already satisfied: tenacity<9.0.0,>=8.1.0 in /Users/chunyunluo/developer/python/project/thinking-in-python/venv/lib/python3.11/site-packages (from langchain) (8.2.3)\r\n",
      "Requirement already satisfied: attrs>=17.3.0 in /Users/chunyunluo/developer/python/project/thinking-in-python/venv/lib/python3.11/site-packages (from aiohttp<4.0.0,>=3.8.3->langchain) (23.1.0)\r\n",
      "Requirement already satisfied: multidict<7.0,>=4.5 in /Users/chunyunluo/developer/python/project/thinking-in-python/venv/lib/python3.11/site-packages (from aiohttp<4.0.0,>=3.8.3->langchain) (6.0.4)\r\n",
      "Requirement already satisfied: yarl<2.0,>=1.0 in /Users/chunyunluo/developer/python/project/thinking-in-python/venv/lib/python3.11/site-packages (from aiohttp<4.0.0,>=3.8.3->langchain) (1.9.3)\r\n",
      "Requirement already satisfied: frozenlist>=1.1.1 in /Users/chunyunluo/developer/python/project/thinking-in-python/venv/lib/python3.11/site-packages (from aiohttp<4.0.0,>=3.8.3->langchain) (1.4.0)\r\n",
      "Requirement already satisfied: aiosignal>=1.1.2 in /Users/chunyunluo/developer/python/project/thinking-in-python/venv/lib/python3.11/site-packages (from aiohttp<4.0.0,>=3.8.3->langchain) (1.3.1)\r\n",
      "Requirement already satisfied: marshmallow<4.0.0,>=3.18.0 in /Users/chunyunluo/developer/python/project/thinking-in-python/venv/lib/python3.11/site-packages (from dataclasses-json<0.7,>=0.5.7->langchain) (3.20.2)\r\n",
      "Requirement already satisfied: typing-inspect<1,>=0.4.0 in /Users/chunyunluo/developer/python/project/thinking-in-python/venv/lib/python3.11/site-packages (from dataclasses-json<0.7,>=0.5.7->langchain) (0.9.0)\r\n",
      "Requirement already satisfied: jsonpointer>=1.9 in /Users/chunyunluo/developer/python/project/thinking-in-python/venv/lib/python3.11/site-packages (from jsonpatch<2.0,>=1.33->langchain) (2.4)\r\n",
      "Requirement already satisfied: anyio<5,>=3 in /Users/chunyunluo/developer/python/project/thinking-in-python/venv/lib/python3.11/site-packages (from langchain-core<0.2.0,>=0.1.33->langchain) (4.3.0)\r\n",
      "Requirement already satisfied: packaging<24.0,>=23.2 in /Users/chunyunluo/developer/python/project/thinking-in-python/venv/lib/python3.11/site-packages (from langchain-core<0.2.0,>=0.1.33->langchain) (23.2)\r\n",
      "Requirement already satisfied: orjson<4.0.0,>=3.9.14 in /Users/chunyunluo/developer/python/project/thinking-in-python/venv/lib/python3.11/site-packages (from langsmith<0.2.0,>=0.1.17->langchain) (3.9.15)\r\n",
      "Requirement already satisfied: annotated-types>=0.4.0 in /Users/chunyunluo/developer/python/project/thinking-in-python/venv/lib/python3.11/site-packages (from pydantic<3,>=1->langchain) (0.6.0)\r\n",
      "Requirement already satisfied: pydantic-core==2.16.3 in /Users/chunyunluo/developer/python/project/thinking-in-python/venv/lib/python3.11/site-packages (from pydantic<3,>=1->langchain) (2.16.3)\r\n",
      "Requirement already satisfied: typing-extensions>=4.6.1 in /Users/chunyunluo/developer/python/project/thinking-in-python/venv/lib/python3.11/site-packages (from pydantic<3,>=1->langchain) (4.9.0)\r\n",
      "Requirement already satisfied: charset-normalizer<4,>=2 in /Users/chunyunluo/developer/python/project/thinking-in-python/venv/lib/python3.11/site-packages (from requests<3,>=2->langchain) (3.3.2)\r\n",
      "Requirement already satisfied: idna<4,>=2.5 in /Users/chunyunluo/developer/python/project/thinking-in-python/venv/lib/python3.11/site-packages (from requests<3,>=2->langchain) (3.6)\r\n",
      "Requirement already satisfied: urllib3<3,>=1.21.1 in /Users/chunyunluo/developer/python/project/thinking-in-python/venv/lib/python3.11/site-packages (from requests<3,>=2->langchain) (1.26.18)\r\n",
      "Requirement already satisfied: certifi>=2017.4.17 in /Users/chunyunluo/developer/python/project/thinking-in-python/venv/lib/python3.11/site-packages (from requests<3,>=2->langchain) (2024.2.2)\r\n",
      "Requirement already satisfied: sniffio>=1.1 in /Users/chunyunluo/developer/python/project/thinking-in-python/venv/lib/python3.11/site-packages (from anyio<5,>=3->langchain-core<0.2.0,>=0.1.33->langchain) (1.3.0)\r\n",
      "Requirement already satisfied: mypy-extensions>=0.3.0 in /Users/chunyunluo/developer/python/project/thinking-in-python/venv/lib/python3.11/site-packages (from typing-inspect<1,>=0.4.0->dataclasses-json<0.7,>=0.5.7->langchain) (1.0.0)\r\n",
      "\r\n",
      "\u001B[1m[\u001B[0m\u001B[34;49mnotice\u001B[0m\u001B[1;39;49m]\u001B[0m\u001B[39;49m A new release of pip is available: \u001B[0m\u001B[31;49m23.3.2\u001B[0m\u001B[39;49m -> \u001B[0m\u001B[32;49m24.0\u001B[0m\r\n",
      "\u001B[1m[\u001B[0m\u001B[34;49mnotice\u001B[0m\u001B[1;39;49m]\u001B[0m\u001B[39;49m To update, run: \u001B[0m\u001B[32;49mpip install --upgrade pip\u001B[0m\r\n",
      "Note: you may need to restart the kernel to use updated packages.\n"
     ]
    }
   ],
   "source": [
    "pip install langchain"
   ]
  },
  {
   "cell_type": "code",
   "execution_count": 2,
   "outputs": [],
   "source": [
    "from langchain_community.llms import Ollama\n",
    "llm = Ollama(model=\"llama2\")"
   ],
   "metadata": {
    "collapsed": false,
    "ExecuteTime": {
     "end_time": "2024-03-25T12:54:51.500686Z",
     "start_time": "2024-03-25T12:54:49.595237Z"
    }
   },
   "id": "df6e387465fab690"
  },
  {
   "cell_type": "code",
   "execution_count": 4,
   "outputs": [
    {
     "data": {
      "text/plain": "\"\\nLangsmith can help with testing in several ways:\\n\\n1. **Code generation**: Langsmith can automatically generate test cases based on the API documentation, which can save time and effort compared to writing tests manually.\\n2. **Smart testing**: Langsmith's AI-powered testing framework can analyze the code and identify potential issues, generating a list of test cases that are tailored to the specific codebase.\\n3. **Testing optimization**: Langsmith can optimize test suites by identifying redundant or unnecessary tests and prioritizing the most critical ones, ensuring that the testing process is efficient and effective.\\n4. **Automated debugging**: Langsmith can help identify and debug issues in the code by generating test cases that expose specific problems, making it easier to fix them.\\n5. **Continuous testing**: Langsmith can be integrated into a continuous integration/continuous deployment (CI/CD) pipeline, enabling automated testing throughout the development process.\\n6. **Test data generation**: Langsmith can generate test data based on the API documentation, which can help ensure that all possible inputs and edge cases are covered during testing.\\n7. **Regression testing**: Langsmith can help with regression testing by identifying changes in the code and generating new test cases to ensure that no new issues were introduced during the development process.\\n8. **Test automation framework**: Langsmith provides a test automation framework that can be customized and extended, making it easy to integrate with other testing tools and frameworks.\\n9. **Test coverage analysis**: Langsmith can analyze the test suite and provide insights into the code's coverage, helping developers identify areas that require additional testing.\\n10. **Integration with devops tools**: Langsmith can be integrated with popular devops tools such as Jenkins, Travis CI, and CircleCI, making it easy to automate testing as part of the development workflow.\\n\\nBy leveraging these features, developers and testers can save time and effort while improving the overall quality and reliability of their software applications.\""
     },
     "execution_count": 4,
     "metadata": {},
     "output_type": "execute_result"
    }
   ],
   "source": [
    "llm.invoke(\"how can langsmith help with testing?\")"
   ],
   "metadata": {
    "collapsed": false,
    "ExecuteTime": {
     "end_time": "2024-03-25T12:57:59.668098Z",
     "start_time": "2024-03-25T12:56:45.584417Z"
    }
   },
   "id": "34deac4c30a6922a"
  },
  {
   "cell_type": "code",
   "execution_count": 5,
   "outputs": [],
   "source": [
    "from langchain_core.prompts import ChatPromptTemplate\n",
    "prompt = ChatPromptTemplate.from_messages([\n",
    "    (\"system\", \"You are world class technical documentation writer.\"),\n",
    "    (\"user\", \"{input}\")\n",
    "])"
   ],
   "metadata": {
    "collapsed": false,
    "ExecuteTime": {
     "end_time": "2024-03-25T12:58:03.597259Z",
     "start_time": "2024-03-25T12:58:03.564409Z"
    }
   },
   "id": "8caf3ba27b32e43d"
  },
  {
   "cell_type": "code",
   "execution_count": 6,
   "outputs": [],
   "source": [
    "chain = prompt | llm "
   ],
   "metadata": {
    "collapsed": false,
    "ExecuteTime": {
     "end_time": "2024-03-25T12:58:06.614298Z",
     "start_time": "2024-03-25T12:58:06.612454Z"
    }
   },
   "id": "2bf4597df241833f"
  },
  {
   "cell_type": "code",
   "execution_count": 7,
   "outputs": [
    {
     "data": {
      "text/plain": "\"\\nAs a world-class technical documentation writer, I can assure you that LinguaSmith can greatly help with testing. Here are some ways:\\n\\n1. Automated Testing: LinguaSmith's AI-powered testing tools can automatically generate test cases based on the content of your technical documentation. This can save time and resources compared to manual testing methods, allowing you to catch errors and bugs more efficiently.\\n2. Natural Language Processing (NLP): LinguaSmith's NLP capabilities can help analyze and understand the context of your technical documentation. By identifying patterns and anomalies in the text, LinguaSmith can identify potential issues or inconsistencies that may need to be addressed through testing.\\n3. Content Analysis: LinguaSmith's content analysis tools can help evaluate the quality and accuracy of your technical documentation. By analyzing the content for clarity, consistency, and completeness, LinguaSmith can identify areas where testing may be necessary to ensure that the documentation meets the required standards.\\n4. Collaboration: LinguaSmith can facilitate collaboration among team members by providing a centralized platform for document creation, review, and approval. This can help ensure that all team members are on the same page and that testing is conducted in a coordinated manner.\\n5. Test Case Generation: LinguaSmith's AI-powered test case generation tools can create test cases based on the content of your technical documentation. This can help ensure that all possible scenarios and edge cases are tested, reducing the likelihood of errors or bugs going undetected.\\n6. Defect Prediction: LinguaSmith's machine learning algorithms can analyze historical data and predict potential defects in your technical documentation. By identifying patterns and trends, LinguaSmith can help prioritize testing efforts to ensure that the most critical areas are tested first.\\n7. Documentation Quality Improvement: LinguaSmith's content analysis tools can also help identify areas where the documentation could be improved. By highlighting these areas, LinguaSmith can assist in improving the quality of the documentation, which can reduce the likelihood of errors and bugs going undetected during testing.\\n\\nIn summary, LinguaSmith can greatly help with testing by automating test case generation, content analysis, collaboration, defect prediction, and documentation quality improvement. By leveraging these features, you can ensure that your technical documentation is accurate, complete, and up-to-date, and that any issues or bugs are identified and addressed in a timely manner.\""
     },
     "execution_count": 7,
     "metadata": {},
     "output_type": "execute_result"
    }
   ],
   "source": [
    "chain.invoke({\"input\": \"how can langsmith help with testing?\"})"
   ],
   "metadata": {
    "collapsed": false,
    "ExecuteTime": {
     "end_time": "2024-03-25T12:59:40.102055Z",
     "start_time": "2024-03-25T12:58:09.833828Z"
    }
   },
   "id": "88288e2f9f20ec2e"
  },
  {
   "cell_type": "code",
   "execution_count": 8,
   "outputs": [],
   "source": [
    "from langchain_core.output_parsers import StrOutputParser\n",
    "\n",
    "output_parser = StrOutputParser()"
   ],
   "metadata": {
    "collapsed": false,
    "ExecuteTime": {
     "end_time": "2024-03-25T13:00:40.069373Z",
     "start_time": "2024-03-25T13:00:40.066917Z"
    }
   },
   "id": "86163606ce5bb943"
  },
  {
   "cell_type": "code",
   "execution_count": 9,
   "outputs": [],
   "source": [
    "chain = prompt | llm | output_parser"
   ],
   "metadata": {
    "collapsed": false,
    "ExecuteTime": {
     "end_time": "2024-03-25T13:00:45.122081Z",
     "start_time": "2024-03-25T13:00:45.119603Z"
    }
   },
   "id": "ec6623fc6bf4f5a9"
  },
  {
   "cell_type": "code",
   "execution_count": 10,
   "outputs": [
    {
     "data": {
      "text/plain": "\"\\nAh, an excellent question! As a world-class technical documentation writer, I can attest that Langsmith is an invaluable tool for testing and validation purposes. Here are some ways in which Langsmith can help with testing:\\n\\n1. **Automated Content Generation**: Langsmith's AI-powered content generation capabilities allow it to create high-quality documentation automatically, saving you time and effort spent on manual writing and testing. This means you can focus on other critical tasks while ensuring that your documentation is accurate and up-to-date.\\n2. **Consistency Checking**: Langsmith's advanced algorithms can detect inconsistencies in your documentation, ensuring that it adheres to a consistent style and format throughout. This helps maintain a uniform tone and voice across all your documents, which is particularly useful when working on large-scale projects with multiple contributors.\\n3. **Sentiment Analysis**: Langsmith's sentiment analysis capabilities can help you identify areas of your documentation where the tone may be too positive or negative. By analyzing the sentiment of your content, you can adjust your writing style to better align with your target audience's needs and expectations.\\n4. **Readability Scoring**: Langsmith can assess the readability of your documentation using various metrics, such as grade level, reading ease, and fogginess. By identifying areas where your content may be challenging for some readers, you can simplify your writing to improve accessibility and comprehension.\\n5. **Glossary Management**: Langsmith's glossary feature allows you to maintain a centralized repository of technical terms and definitions. This helps ensure that everyone involved in the project is using the same terminology, which can greatly simplify the testing process by reducing confusion and errors.\\n6. **Integration with Testing Tools**: By integrating Langsmith with popular testing tools like Selenium or Appium, you can automate the testing process for your documentation. This not only saves time but also enables you to run more comprehensive tests with greater accuracy and efficiency.\\n7. **Collaborative Writing**: Langsmith's real-time collaboration features allow multiple team members to work on a document simultaneously. This can greatly simplify the testing process by enabling your team to review and validate each other's changes in a single, unified platform.\\n8. **Customizable Templates**: Langsmith allows you to create customizable templates for your documentation, tailored to your specific project requirements. By using these templates, you can streamline the testing process by ensuring consistency across all documents and reducing the likelihood of errors due to formatting or style issues.\\n9. **Accessibility Checking**: Langsmith's accessibility checking capabilities can help identify potential issues with your documentation's readability, usability, and overall accessibility. By addressing these issues early on, you can ensure that your documentation is accessible to a wider range of users, including those with disabilities.\\n10. **Continuous Integration and Continuous Deployment**: By integrating Langsmith into your development workflow using tools like Jenkins or Travis CI, you can automate the testing process for your documentation. This allows you to quickly and easily deploy updated documentation to your team and stakeholders, ensuring that everyone has access to the most current and accurate information.\\n\\nIn summary, Langsmith's advanced AI capabilities can significantly improve the testing process for technical documentation by automating content generation, consistency checking, sentiment analysis, readability scoring, glossary management, integration with testing tools, collaborative writing, customizable templates, accessibility checking, and continuous integration and deployment.\""
     },
     "execution_count": 10,
     "metadata": {},
     "output_type": "execute_result"
    }
   ],
   "source": [
    "chain.invoke({\"input\": \"how can langsmith help with testing?\"})"
   ],
   "metadata": {
    "collapsed": false,
    "ExecuteTime": {
     "end_time": "2024-03-25T13:03:02.363214Z",
     "start_time": "2024-03-25T13:00:47.387376Z"
    }
   },
   "id": "54651379667708b2"
  },
  {
   "cell_type": "code",
   "outputs": [],
   "source": [],
   "metadata": {
    "collapsed": false
   },
   "id": "395bae7790831bcd"
  }
 ],
 "metadata": {
  "kernelspec": {
   "display_name": "Python 3",
   "language": "python",
   "name": "python3"
  },
  "language_info": {
   "codemirror_mode": {
    "name": "ipython",
    "version": 2
   },
   "file_extension": ".py",
   "mimetype": "text/x-python",
   "name": "python",
   "nbconvert_exporter": "python",
   "pygments_lexer": "ipython2",
   "version": "2.7.6"
  }
 },
 "nbformat": 4,
 "nbformat_minor": 5
}
